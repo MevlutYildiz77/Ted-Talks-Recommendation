{
 "cells": [
  {
   "cell_type": "code",
   "execution_count": 2,
   "metadata": {},
   "outputs": [],
   "source": [
    "import pandas as pd\n",
    "import numpy as np\n"
   ]
  },
  {
   "cell_type": "code",
   "execution_count": 3,
   "metadata": {},
   "outputs": [
    {
     "data": {
      "text/html": [
       "<div>\n",
       "<style scoped>\n",
       "    .dataframe tbody tr th:only-of-type {\n",
       "        vertical-align: middle;\n",
       "    }\n",
       "\n",
       "    .dataframe tbody tr th {\n",
       "        vertical-align: top;\n",
       "    }\n",
       "\n",
       "    .dataframe thead th {\n",
       "        text-align: right;\n",
       "    }\n",
       "</style>\n",
       "<table border=\"1\" class=\"dataframe\">\n",
       "  <thead>\n",
       "    <tr style=\"text-align: right;\">\n",
       "      <th></th>\n",
       "      <th>transcript</th>\n",
       "      <th>url</th>\n",
       "      <th>title</th>\n",
       "      <th>similar_articles_unigram</th>\n",
       "      <th>similar_articles_bigram</th>\n",
       "    </tr>\n",
       "  </thead>\n",
       "  <tbody>\n",
       "    <tr>\n",
       "      <th>0</th>\n",
       "      <td>Good morning. How are you?(Laughter)It's been ...</td>\n",
       "      <td>https://www.ted.com/talks/ken_robinson_says_sc...</td>\n",
       "      <td>ken_robinson_says_schools_kill_creativity\\n</td>\n",
       "      <td>rory_bremner_s_one_man_world_summit\\n,sakena_y...</td>\n",
       "      <td>sakena_yacoobi_how_i_stopped_the_taliban_from_...</td>\n",
       "    </tr>\n",
       "    <tr>\n",
       "      <th>1</th>\n",
       "      <td>Thank you so much, Chris. And it's truly a gre...</td>\n",
       "      <td>https://www.ted.com/talks/al_gore_on_averting_...</td>\n",
       "      <td>al_gore_on_averting_climate_crisis\\n</td>\n",
       "      <td>rory_bremner_s_one_man_world_summit\\n,alice_bo...</td>\n",
       "      <td>alice_bows_larkin_we_re_too_late_to_prevent_cl...</td>\n",
       "    </tr>\n",
       "    <tr>\n",
       "      <th>2</th>\n",
       "      <td>(Music: \"The Sound of Silence,\" Simon &amp; Garfun...</td>\n",
       "      <td>https://www.ted.com/talks/david_pogue_says_sim...</td>\n",
       "      <td>david_pogue_says_simplicity_sells\\n</td>\n",
       "      <td>rory_bremner_s_one_man_world_summit\\n,david_ca...</td>\n",
       "      <td>rory_bremner_s_one_man_world_summit\\n,david_ca...</td>\n",
       "    </tr>\n",
       "    <tr>\n",
       "      <th>3</th>\n",
       "      <td>If you're here today — and I'm very happy that...</td>\n",
       "      <td>https://www.ted.com/talks/majora_carter_s_tale...</td>\n",
       "      <td>majora_carter_s_tale_of_urban_renewal\\n</td>\n",
       "      <td>dena_simmons_how_students_of_color_confront_im...</td>\n",
       "      <td>janette_sadik_khan_new_york_s_streets_not_so_m...</td>\n",
       "    </tr>\n",
       "    <tr>\n",
       "      <th>4</th>\n",
       "      <td>About 10 years ago, I took on the task to teac...</td>\n",
       "      <td>https://www.ted.com/talks/hans_rosling_shows_t...</td>\n",
       "      <td>hans_rosling_shows_the_best_stats_you_ve_ever_...</td>\n",
       "      <td>hans_rosling_religions_and_babies\\n,hans_rosli...</td>\n",
       "      <td>hans_rosling_on_global_population_growth\\n,han...</td>\n",
       "    </tr>\n",
       "  </tbody>\n",
       "</table>\n",
       "</div>"
      ],
      "text/plain": [
       "                                          transcript  \\\n",
       "0  Good morning. How are you?(Laughter)It's been ...   \n",
       "1  Thank you so much, Chris. And it's truly a gre...   \n",
       "2  (Music: \"The Sound of Silence,\" Simon & Garfun...   \n",
       "3  If you're here today — and I'm very happy that...   \n",
       "4  About 10 years ago, I took on the task to teac...   \n",
       "\n",
       "                                                 url  \\\n",
       "0  https://www.ted.com/talks/ken_robinson_says_sc...   \n",
       "1  https://www.ted.com/talks/al_gore_on_averting_...   \n",
       "2  https://www.ted.com/talks/david_pogue_says_sim...   \n",
       "3  https://www.ted.com/talks/majora_carter_s_tale...   \n",
       "4  https://www.ted.com/talks/hans_rosling_shows_t...   \n",
       "\n",
       "                                               title  \\\n",
       "0        ken_robinson_says_schools_kill_creativity\\n   \n",
       "1               al_gore_on_averting_climate_crisis\\n   \n",
       "2                david_pogue_says_simplicity_sells\\n   \n",
       "3            majora_carter_s_tale_of_urban_renewal\\n   \n",
       "4  hans_rosling_shows_the_best_stats_you_ve_ever_...   \n",
       "\n",
       "                            similar_articles_unigram  \\\n",
       "0  rory_bremner_s_one_man_world_summit\\n,sakena_y...   \n",
       "1  rory_bremner_s_one_man_world_summit\\n,alice_bo...   \n",
       "2  rory_bremner_s_one_man_world_summit\\n,david_ca...   \n",
       "3  dena_simmons_how_students_of_color_confront_im...   \n",
       "4  hans_rosling_religions_and_babies\\n,hans_rosli...   \n",
       "\n",
       "                             similar_articles_bigram  \n",
       "0  sakena_yacoobi_how_i_stopped_the_taliban_from_...  \n",
       "1  alice_bows_larkin_we_re_too_late_to_prevent_cl...  \n",
       "2  rory_bremner_s_one_man_world_summit\\n,david_ca...  \n",
       "3  janette_sadik_khan_new_york_s_streets_not_so_m...  \n",
       "4  hans_rosling_on_global_population_growth\\n,han...  "
      ]
     },
     "execution_count": 3,
     "metadata": {},
     "output_type": "execute_result"
    }
   ],
   "source": [
    "df = pd.read_csv(\"output.csv\")\n",
    "df.head()"
   ]
  },
  {
   "cell_type": "code",
   "execution_count": 4,
   "metadata": {},
   "outputs": [],
   "source": [
    "from sklearn.feature_extraction import text\n"
   ]
  },
  {
   "cell_type": "code",
   "execution_count": 5,
   "metadata": {},
   "outputs": [],
   "source": [
    "ted_talks = df[\"transcript\"].tolist()\n",
    "#ted_talks"
   ]
  },
  {
   "cell_type": "code",
   "execution_count": 6,
   "metadata": {},
   "outputs": [
    {
     "data": {
      "text/html": [
       "<style>#sk-container-id-1 {color: black;background-color: white;}#sk-container-id-1 pre{padding: 0;}#sk-container-id-1 div.sk-toggleable {background-color: white;}#sk-container-id-1 label.sk-toggleable__label {cursor: pointer;display: block;width: 100%;margin-bottom: 0;padding: 0.3em;box-sizing: border-box;text-align: center;}#sk-container-id-1 label.sk-toggleable__label-arrow:before {content: \"▸\";float: left;margin-right: 0.25em;color: #696969;}#sk-container-id-1 label.sk-toggleable__label-arrow:hover:before {color: black;}#sk-container-id-1 div.sk-estimator:hover label.sk-toggleable__label-arrow:before {color: black;}#sk-container-id-1 div.sk-toggleable__content {max-height: 0;max-width: 0;overflow: hidden;text-align: left;background-color: #f0f8ff;}#sk-container-id-1 div.sk-toggleable__content pre {margin: 0.2em;color: black;border-radius: 0.25em;background-color: #f0f8ff;}#sk-container-id-1 input.sk-toggleable__control:checked~div.sk-toggleable__content {max-height: 200px;max-width: 100%;overflow: auto;}#sk-container-id-1 input.sk-toggleable__control:checked~label.sk-toggleable__label-arrow:before {content: \"▾\";}#sk-container-id-1 div.sk-estimator input.sk-toggleable__control:checked~label.sk-toggleable__label {background-color: #d4ebff;}#sk-container-id-1 div.sk-label input.sk-toggleable__control:checked~label.sk-toggleable__label {background-color: #d4ebff;}#sk-container-id-1 input.sk-hidden--visually {border: 0;clip: rect(1px 1px 1px 1px);clip: rect(1px, 1px, 1px, 1px);height: 1px;margin: -1px;overflow: hidden;padding: 0;position: absolute;width: 1px;}#sk-container-id-1 div.sk-estimator {font-family: monospace;background-color: #f0f8ff;border: 1px dotted black;border-radius: 0.25em;box-sizing: border-box;margin-bottom: 0.5em;}#sk-container-id-1 div.sk-estimator:hover {background-color: #d4ebff;}#sk-container-id-1 div.sk-parallel-item::after {content: \"\";width: 100%;border-bottom: 1px solid gray;flex-grow: 1;}#sk-container-id-1 div.sk-label:hover label.sk-toggleable__label {background-color: #d4ebff;}#sk-container-id-1 div.sk-serial::before {content: \"\";position: absolute;border-left: 1px solid gray;box-sizing: border-box;top: 0;bottom: 0;left: 50%;z-index: 0;}#sk-container-id-1 div.sk-serial {display: flex;flex-direction: column;align-items: center;background-color: white;padding-right: 0.2em;padding-left: 0.2em;position: relative;}#sk-container-id-1 div.sk-item {position: relative;z-index: 1;}#sk-container-id-1 div.sk-parallel {display: flex;align-items: stretch;justify-content: center;background-color: white;position: relative;}#sk-container-id-1 div.sk-item::before, #sk-container-id-1 div.sk-parallel-item::before {content: \"\";position: absolute;border-left: 1px solid gray;box-sizing: border-box;top: 0;bottom: 0;left: 50%;z-index: -1;}#sk-container-id-1 div.sk-parallel-item {display: flex;flex-direction: column;z-index: 1;position: relative;background-color: white;}#sk-container-id-1 div.sk-parallel-item:first-child::after {align-self: flex-end;width: 50%;}#sk-container-id-1 div.sk-parallel-item:last-child::after {align-self: flex-start;width: 50%;}#sk-container-id-1 div.sk-parallel-item:only-child::after {width: 0;}#sk-container-id-1 div.sk-dashed-wrapped {border: 1px dashed gray;margin: 0 0.4em 0.5em 0.4em;box-sizing: border-box;padding-bottom: 0.4em;background-color: white;}#sk-container-id-1 div.sk-label label {font-family: monospace;font-weight: bold;display: inline-block;line-height: 1.2em;}#sk-container-id-1 div.sk-label-container {text-align: center;}#sk-container-id-1 div.sk-container {/* jupyter's `normalize.less` sets `[hidden] { display: none; }` but bootstrap.min.css set `[hidden] { display: none !important; }` so we also need the `!important` here to be able to override the default hidden behavior on the sphinx rendered scikit-learn.org. See: https://github.com/scikit-learn/scikit-learn/issues/21755 */display: inline-block !important;position: relative;}#sk-container-id-1 div.sk-text-repr-fallback {display: none;}</style><div id=\"sk-container-id-1\" class=\"sk-top-container\"><div class=\"sk-text-repr-fallback\"><pre>TfidfVectorizer(input=[&quot;Good morning. How are you?(Laughter)It&#x27;s been great, &quot;\n",
       "                       &quot;hasn&#x27;t it? I&#x27;ve been blown away by the whole thing. In &quot;\n",
       "                       &quot;fact, I&#x27;m leaving.(Laughter)There have been three &quot;\n",
       "                       &#x27;themes running through the conference which are &#x27;\n",
       "                       &#x27;relevant to what I want to talk about. One is the &#x27;\n",
       "                       &#x27;extraordinary evidence of human creativity in all of &#x27;\n",
       "                       &quot;the presentations that we&#x27;ve had and in all of the &quot;\n",
       "                       &#x27;people here. J...\n",
       "                       &quot;we&#x27;re cautious, we&#x27;re thoughtful. When our fears are &quot;\n",
       "                       &quot;unbounded and overblown, we&#x27;re reckless, and we&#x27;re &quot;\n",
       "                       &#x27;cowardly.The lesson I want to leave you with, from &#x27;\n",
       "                       &#x27;these data, is that our longings and our worries are &#x27;\n",
       "                       &#x27;both to some degree overblown, because we have within &#x27;\n",
       "                       &#x27;us the capacity to manufacture the very commodity we &#x27;\n",
       "                       &#x27;are constantly chasing when we choose experience.Thank &#x27;\n",
       "                       &#x27;you. (Applause)&#x27;, ...],\n",
       "                ngram_range=(1, 2), stop_words=&#x27;english&#x27;)</pre><b>In a Jupyter environment, please rerun this cell to show the HTML representation or trust the notebook. <br />On GitHub, the HTML representation is unable to render, please try loading this page with nbviewer.org.</b></div><div class=\"sk-container\" hidden><div class=\"sk-item\"><div class=\"sk-estimator sk-toggleable\"><input class=\"sk-toggleable__control sk-hidden--visually\" id=\"sk-estimator-id-1\" type=\"checkbox\" checked><label for=\"sk-estimator-id-1\" class=\"sk-toggleable__label sk-toggleable__label-arrow\">TfidfVectorizer</label><div class=\"sk-toggleable__content\"><pre>TfidfVectorizer(input=[&quot;Good morning. How are you?(Laughter)It&#x27;s been great, &quot;\n",
       "                       &quot;hasn&#x27;t it? I&#x27;ve been blown away by the whole thing. In &quot;\n",
       "                       &quot;fact, I&#x27;m leaving.(Laughter)There have been three &quot;\n",
       "                       &#x27;themes running through the conference which are &#x27;\n",
       "                       &#x27;relevant to what I want to talk about. One is the &#x27;\n",
       "                       &#x27;extraordinary evidence of human creativity in all of &#x27;\n",
       "                       &quot;the presentations that we&#x27;ve had and in all of the &quot;\n",
       "                       &#x27;people here. J...\n",
       "                       &quot;we&#x27;re cautious, we&#x27;re thoughtful. When our fears are &quot;\n",
       "                       &quot;unbounded and overblown, we&#x27;re reckless, and we&#x27;re &quot;\n",
       "                       &#x27;cowardly.The lesson I want to leave you with, from &#x27;\n",
       "                       &#x27;these data, is that our longings and our worries are &#x27;\n",
       "                       &#x27;both to some degree overblown, because we have within &#x27;\n",
       "                       &#x27;us the capacity to manufacture the very commodity we &#x27;\n",
       "                       &#x27;are constantly chasing when we choose experience.Thank &#x27;\n",
       "                       &#x27;you. (Applause)&#x27;, ...],\n",
       "                ngram_range=(1, 2), stop_words=&#x27;english&#x27;)</pre></div></div></div></div></div>"
      ],
      "text/plain": [
       "TfidfVectorizer(input=[\"Good morning. How are you?(Laughter)It's been great, \"\n",
       "                       \"hasn't it? I've been blown away by the whole thing. In \"\n",
       "                       \"fact, I'm leaving.(Laughter)There have been three \"\n",
       "                       'themes running through the conference which are '\n",
       "                       'relevant to what I want to talk about. One is the '\n",
       "                       'extraordinary evidence of human creativity in all of '\n",
       "                       \"the presentations that we've had and in all of the \"\n",
       "                       'people here. J...\n",
       "                       \"we're cautious, we're thoughtful. When our fears are \"\n",
       "                       \"unbounded and overblown, we're reckless, and we're \"\n",
       "                       'cowardly.The lesson I want to leave you with, from '\n",
       "                       'these data, is that our longings and our worries are '\n",
       "                       'both to some degree overblown, because we have within '\n",
       "                       'us the capacity to manufacture the very commodity we '\n",
       "                       'are constantly chasing when we choose experience.Thank '\n",
       "                       'you. (Applause)', ...],\n",
       "                ngram_range=(1, 2), stop_words='english')"
      ]
     },
     "execution_count": 6,
     "metadata": {},
     "output_type": "execute_result"
    }
   ],
   "source": [
    "bi_tfidf = text.TfidfVectorizer(input=ted_talks, stop_words=\"english\", ngram_range=(1,2))\n",
    "bi_tfidf"
   ]
  },
  {
   "cell_type": "code",
   "execution_count": 7,
   "metadata": {},
   "outputs": [
    {
     "ename": "NameError",
     "evalue": "name 'bi_tfidf' is not defined",
     "output_type": "error",
     "traceback": [
      "\u001b[1;31m---------------------------------------------------------------------------\u001b[0m",
      "\u001b[1;31mNameError\u001b[0m                                 Traceback (most recent call last)",
      "Input \u001b[1;32mIn [7]\u001b[0m, in \u001b[0;36m<cell line: 1>\u001b[1;34m()\u001b[0m\n\u001b[1;32m----> 1\u001b[0m bi_matrix \u001b[38;5;241m=\u001b[39m \u001b[43mbi_tfidf\u001b[49m\u001b[38;5;241m.\u001b[39mfit_transform(ted_talks)\n\u001b[0;32m      2\u001b[0m bi_matrix\n",
      "\u001b[1;31mNameError\u001b[0m: name 'bi_tfidf' is not defined"
     ]
    }
   ],
   "source": [
    "bi_matrix = bi_tfidf.fit_transform(ted_talks)\n",
    "bi_matrix"
   ]
  },
  {
   "cell_type": "code",
   "execution_count": null,
   "metadata": {},
   "outputs": [],
   "source": [
    "uni_tfidf = text.TfidfVectorizer(input= ted_talks, stop_words = \"english\")\n",
    "uni_tfidf"
   ]
  },
  {
   "cell_type": "code",
   "execution_count": null,
   "metadata": {},
   "outputs": [],
   "source": [
    "uni_matrix = uni_tfidf.fit_transform(ted_talks)\n",
    "uni_matrix"
   ]
  },
  {
   "cell_type": "code",
   "execution_count": null,
   "metadata": {},
   "outputs": [],
   "source": [
    "from sklearn.metrics.pairwise import cosine_similarity\n"
   ]
  },
  {
   "cell_type": "code",
   "execution_count": null,
   "metadata": {},
   "outputs": [],
   "source": [
    "bi_sim = cosine_similarity(bi_matrix)\n",
    "bi_sim"
   ]
  },
  {
   "cell_type": "code",
   "execution_count": null,
   "metadata": {},
   "outputs": [],
   "source": [
    "uni_sim = cosine_similarity(uni_matrix)\n",
    "uni_sim"
   ]
  },
  {
   "cell_type": "code",
   "execution_count": null,
   "metadata": {},
   "outputs": [],
   "source": [
    "def recomend_ted_talks(x):\n",
    "    return \".\".join(df[\"title\"].loc[x.argsort()[-5:-1]]))\n",
    "\n",
    "df[\"ted_talks_uni\"] = [recomend_ted_talks(x) for x in uni_sim]\n",
    "df[\"ted_talks_bi\"] = [recomend_ted_talks(x) for x in bi_sim]\n",
    "print(df[\"ted_talks_uni\"].str.replace (\"_\", \" \").str.upper().str.strip().str.split(\"\\n\")[1])"
   ]
  }
 ],
 "metadata": {
  "kernelspec": {
   "display_name": "Python 3 (ipykernel)",
   "language": "python",
   "name": "python3"
  },
  "language_info": {
   "codemirror_mode": {
    "name": "ipython",
    "version": 3
   },
   "file_extension": ".py",
   "mimetype": "text/x-python",
   "name": "python",
   "nbconvert_exporter": "python",
   "pygments_lexer": "ipython3",
   "version": "3.9.12"
  },
  "vscode": {
   "interpreter": {
    "hash": "45a60c048f4ccd6c48c495f838e9ad694b36421548fddd91d87e2ee8d4b585bd"
   }
  }
 },
 "nbformat": 4,
 "nbformat_minor": 4
}
